{
 "cells": [
  {
   "cell_type": "code",
   "execution_count": 6,
   "metadata": {},
   "outputs": [
    {
     "name": "stdout",
     "output_type": "stream",
     "text": [
      "result:  0.5671432544518853 error: 6.867614881778117e-07 íterations: 35\n"
     ]
    }
   ],
   "source": [
    "import math\n",
    "\n",
    "epsilon = math.pow(10, -6)\n",
    "\n",
    "x1 = 0\n",
    "x2 = 2\n",
    "\n",
    "def function(x):\n",
    "    return math.pow(x, 2) + 2*math.exp(-x)\n",
    "\n",
    "delta = (x2 - x1)/3\n",
    "\n",
    "n_iter = 0\n",
    "while x2-x1 > epsilon * 2:\n",
    "    n_iter += 1\n",
    "    f2 = function(x2-delta)\n",
    "    f1 = function(x2-2*delta)\n",
    "    if f2-f1 > 0:\n",
    "        x2 = x2-delta\n",
    "    else:\n",
    "        x1 = x2 - 2*delta\n",
    "    delta = 2*delta/3\n",
    "\n",
    "err = (x2-x1)/2\n",
    "print('result: ', x1+err, 'error:', err, 'íterations:', n_iter)"
   ]
  },
  {
   "cell_type": "code",
   "execution_count": null,
   "metadata": {},
   "outputs": [],
   "source": []
  }
 ],
 "metadata": {
  "kernelspec": {
   "display_name": "Python 3",
   "language": "python",
   "name": "python3"
  },
  "language_info": {
   "codemirror_mode": {
    "name": "ipython",
    "version": 3
   },
   "file_extension": ".py",
   "mimetype": "text/x-python",
   "name": "python",
   "nbconvert_exporter": "python",
   "pygments_lexer": "ipython3",
   "version": "3.7.9"
  }
 },
 "nbformat": 4,
 "nbformat_minor": 4
}
