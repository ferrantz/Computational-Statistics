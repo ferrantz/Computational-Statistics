{
 "cells": [
  {
   "cell_type": "code",
   "execution_count": 1,
   "metadata": {},
   "outputs": [
    {
     "name": "stdout",
     "output_type": "stream",
     "text": [
      "num_iter:  76 \n",
      "x : [5.48415790e-07 1.29463406e-07] \n",
      "f : 2.800424231459657e-13\n"
     ]
    }
   ],
   "source": [
    "import numpy as np\n",
    "\n",
    "\n",
    "def fx(x):\n",
    "    f=x[0]**2 - x[0]*x[1] + 3*x[1]**2\n",
    "    g=np.array([2*x[0]-x[1],-x[0]+6*x[1]])\n",
    "    return f, g\n",
    "\n",
    "\n",
    "maxiter=1000 #set maximum iterations number\n",
    "tol=10**(-6) #tolerance value\n",
    "it=0 #set counter\n",
    "x=np.array([1,2]) #set initial point\n",
    "alfa=0.1 #set constant step length\n",
    "fo=fx(x)\n",
    "while it<=maxiter and max(abs(fo[1]))>tol:\n",
    "    p=-fo[1] #set direction\n",
    "    x=x+alfa*p #update x\n",
    "    fo=fx(x) #evaluate f\n",
    "    it=it+1\n",
    "\n",
    "\n",
    "print('num_iter: ',it,'\\nx :',x,'\\nf :',fx(x)[0])"
   ]
  },
  {
   "cell_type": "code",
   "execution_count": null,
   "metadata": {},
   "outputs": [],
   "source": []
  }
 ],
 "metadata": {
  "kernelspec": {
   "display_name": "Python 3",
   "language": "python",
   "name": "python3"
  },
  "language_info": {
   "codemirror_mode": {
    "name": "ipython",
    "version": 3
   },
   "file_extension": ".py",
   "mimetype": "text/x-python",
   "name": "python",
   "nbconvert_exporter": "python",
   "pygments_lexer": "ipython3",
   "version": "3.7.9"
  }
 },
 "nbformat": 4,
 "nbformat_minor": 4
}
