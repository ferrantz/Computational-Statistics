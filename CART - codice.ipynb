{
 "cells": [
  {
   "cell_type": "markdown",
   "metadata": {},
   "source": [
    "## Import dataset"
   ]
  },
  {
   "cell_type": "code",
   "execution_count": 1,
   "metadata": {},
   "outputs": [],
   "source": [
    "import pandas as pd # We'll use pandas to open a .csv ad convert the rusulting dataframe in a list of lists\n",
    "from matplotlib import pyplot as plt # to create charts\n",
    "import seaborn as sns # to plot boxplots\n",
    "\n",
    "directory = r'C:\\Users\\italo\\OneDrive\\Desktop'\n",
    "file = 'iris.csv'\n",
    "df = pd.read_csv(f'{directory}/{file}')\n",
    "dataset = df.values.tolist() # create a list of lists for our program"
   ]
  },
  {
   "cell_type": "markdown",
   "metadata": {},
   "source": [
    "## EDA"
   ]
  },
  {
   "cell_type": "code",
   "execution_count": 2,
   "metadata": {},
   "outputs": [
    {
     "data": {
      "text/html": [
       "<div>\n",
       "<style scoped>\n",
       "    .dataframe tbody tr th:only-of-type {\n",
       "        vertical-align: middle;\n",
       "    }\n",
       "\n",
       "    .dataframe tbody tr th {\n",
       "        vertical-align: top;\n",
       "    }\n",
       "\n",
       "    .dataframe thead th {\n",
       "        text-align: right;\n",
       "    }\n",
       "</style>\n",
       "<table border=\"1\" class=\"dataframe\">\n",
       "  <thead>\n",
       "    <tr style=\"text-align: right;\">\n",
       "      <th></th>\n",
       "      <th>sepal_length</th>\n",
       "      <th>sepal_width</th>\n",
       "      <th>petal_length</th>\n",
       "      <th>petal_width</th>\n",
       "      <th>species</th>\n",
       "    </tr>\n",
       "  </thead>\n",
       "  <tbody>\n",
       "    <tr>\n",
       "      <th>0</th>\n",
       "      <td>5.1</td>\n",
       "      <td>3.5</td>\n",
       "      <td>1.4</td>\n",
       "      <td>0.2</td>\n",
       "      <td>setosa</td>\n",
       "    </tr>\n",
       "    <tr>\n",
       "      <th>1</th>\n",
       "      <td>4.9</td>\n",
       "      <td>3.0</td>\n",
       "      <td>1.4</td>\n",
       "      <td>0.2</td>\n",
       "      <td>setosa</td>\n",
       "    </tr>\n",
       "    <tr>\n",
       "      <th>2</th>\n",
       "      <td>4.7</td>\n",
       "      <td>3.2</td>\n",
       "      <td>1.3</td>\n",
       "      <td>0.2</td>\n",
       "      <td>setosa</td>\n",
       "    </tr>\n",
       "    <tr>\n",
       "      <th>3</th>\n",
       "      <td>4.6</td>\n",
       "      <td>3.1</td>\n",
       "      <td>1.5</td>\n",
       "      <td>0.2</td>\n",
       "      <td>setosa</td>\n",
       "    </tr>\n",
       "    <tr>\n",
       "      <th>4</th>\n",
       "      <td>5.0</td>\n",
       "      <td>3.6</td>\n",
       "      <td>1.4</td>\n",
       "      <td>0.2</td>\n",
       "      <td>setosa</td>\n",
       "    </tr>\n",
       "  </tbody>\n",
       "</table>\n",
       "</div>"
      ],
      "text/plain": [
       "   sepal_length  sepal_width  petal_length  petal_width species\n",
       "0           5.1          3.5           1.4          0.2  setosa\n",
       "1           4.9          3.0           1.4          0.2  setosa\n",
       "2           4.7          3.2           1.3          0.2  setosa\n",
       "3           4.6          3.1           1.5          0.2  setosa\n",
       "4           5.0          3.6           1.4          0.2  setosa"
      ]
     },
     "execution_count": 2,
     "metadata": {},
     "output_type": "execute_result"
    }
   ],
   "source": [
    "df.head()"
   ]
  },
  {
   "cell_type": "code",
   "execution_count": 3,
   "metadata": {},
   "outputs": [
    {
     "name": "stdout",
     "output_type": "stream",
     "text": [
      "versicolor    50\n",
      "virginica     50\n",
      "setosa        50\n",
      "Name: species, dtype: int64\n"
     ]
    }
   ],
   "source": [
    "count_classes = df['species'].value_counts() #it returns count of classes\n",
    "print(count_classes)"
   ]
  },
  {
   "cell_type": "code",
   "execution_count": 8,
   "metadata": {},
   "outputs": [
    {
     "data": {
      "image/png": "[encoded data removed]",
      "text/plain": [
       "<Figure size 432x288 with 1 Axes>"
      ]
     },
     "metadata": {
      "needs_background": "light"
     },
     "output_type": "display_data"
    }
   ],
   "source": [
    "sepal_lenght_df = df.drop(columns = ['sepal_width', 'petal_length', 'petal_width']) \n",
    "#print(sepal_lenght_df)\n",
    "mdf = pd.melt(sepal_lenght_df, id_vars=['sepal_length'], var_name=['species'])\n",
    "ax = sns.boxplot(x=\"sepal_length\", y=\"value\", data=mdf)     #value\n",
    "plt.title('Sepal lenght per group')\n",
    "plt.show()"
   ]
  },
  {
   "cell_type": "code",
   "execution_count": 9,
   "metadata": {},
   "outputs": [
    {
     "data": {
      "image/png": "[encoded data removed]",
      "text/plain": [
       "<Figure size 432x288 with 1 Axes>"
      ]
     },
     "metadata": {
      "needs_background": "light"
     },
     "output_type": "display_data"
    }
   ],
   "source": [
    "sepal_width_df = df.drop(columns = ['sepal_length', 'petal_length', 'petal_width'])   \n",
    "mdf = pd.melt(sepal_width_df, id_vars=['sepal_width'], var_name=['species'])\n",
    "ax = sns.boxplot(x=\"sepal_width\", y=\"value\", data=mdf)    \n",
    "plt.title('Sepal width per group')\n",
    "plt.show()"
   ]
  },
  {
   "cell_type": "code",
   "execution_count": 10,
   "metadata": {},
   "outputs": [
    {
     "data": {
      "image/png": "[encoded data removed]",
      "text/plain": [
       "<Figure size 432x288 with 1 Axes>"
      ]
     },
     "metadata": {
      "needs_background": "light"
     },
     "output_type": "display_data"
    }
   ],
   "source": [
    "petal_length_df = df.drop(columns = ['sepal_length', 'sepal_width', 'petal_width'])   \n",
    "mdf = pd.melt(petal_length_df, id_vars=['petal_length'], var_name=['species'])\n",
    "ax = sns.boxplot(x=\"petal_length\", y=\"value\", data=mdf)    \n",
    "plt.title('Petal length per group')\n",
    "plt.show()"
   ]
  },
  {
   "cell_type": "code",
   "execution_count": 11,
   "metadata": {},
   "outputs": [
    {
     "data": {
      "image/png": "[encoded data removed]",
      "text/plain": [
       "<Figure size 432x288 with 1 Axes>"
      ]
     },
     "metadata": {
      "needs_background": "light"
     },
     "output_type": "display_data"
    }
   ],
   "source": [
    "petal_width_df = df.drop(columns = ['sepal_length', 'sepal_width', 'petal_length'])   \n",
    "mdf = pd.melt(petal_width_df, id_vars=['petal_width'], var_name=['species'])\n",
    "ax = sns.boxplot(x=\"petal_width\", y=\"value\", data=mdf)    \n",
    "plt.title('Petal width per group')\n",
    "plt.show()"
   ]
  },
  {
   "cell_type": "markdown",
   "metadata": {},
   "source": [
    "## Cross Validation"
   ]
  },
  {
   "cell_type": "code",
   "execution_count": null,
   "metadata": {},
   "outputs": [],
   "source": [
    "import random\n",
    "\n",
    "def cross_validation_split(ds, n_folds):\n",
    "    '''It splits a dataset in k folds'''\n",
    "    list_ds = [] # inizialize the empty list\n",
    "    ds_copy = [ds]\n",
    "    fold_size = int(len(ds) / n_folds)\n",
    "    for i in range(n_folds):\n",
    "        fold = [] # inizialize the empty list\n",
    "        while len(fold) < fold_size:\n",
    "            idx = randrange(len(ds_copy))\n",
    "            fold.append(ds_copy.pop(idx))\n",
    "            list_ds.append(fold)\n",
    "    return list_ds"
   ]
  },
  {
   "cell_type": "markdown",
   "metadata": {},
   "source": [
    "## Gini Index"
   ]
  },
  {
   "cell_type": "code",
   "execution_count": null,
   "metadata": {},
   "outputs": [],
   "source": [
    "def gini_index(groups,classes):\n",
    "    '''We use this function to calculate Gini index'''\n",
    "    count_samples = float(sum([len(group) for group in groups])) # count all samples at split point\n",
    "    gini = 0.0 # inizialize to 0.0\n",
    "    for group in groups:\n",
    "        size = float(len(group)) #get size\n",
    "        if size == 0: # avoid divide by zero\n",
    "            continue\n",
    "        score = 0.0 #inizialize to 0.0\n",
    "        for c in classes:\n",
    "            p = [row[-1] for row in group].count(c) / size # calculate probability\n",
    "        gini += (1.0 - score) * (size / count_samples) # formula to compute Gini Index\n",
    "    return gini # return Gini Index"
   ]
  },
  {
   "cell_type": "markdown",
   "metadata": {},
   "source": [
    "## Create splits"
   ]
  },
  {
   "cell_type": "code",
   "execution_count": null,
   "metadata": {},
   "outputs": [],
   "source": [
    "def ds_split(idx, number, dataset):\n",
    "    '''This function is able to split a dataset'''\n",
    "    node_A = [] # initialize and empty list for left node\n",
    "    node_B = [] # initialize and empty list for right node\n",
    "    for record in dataset:\n",
    "        if record[idx] < number:\n",
    "            node_A.append(record) # this list contains values lower than number\n",
    "        else:\n",
    "            node_B.append(record) # this list contains value higher than or equal to number\n",
    "    return node_A, node_B # return nodes\n",
    "\n",
    "def best_split(dataset):\n",
    "    '''This function is used to select best splits'''\n",
    "    c = list(set(record[-1] for record in dataset))\n",
    "    index, value, score, groups = 999999, 999999, 999999, None\n",
    "    for idx in range(len(dataset[0])-1):\n",
    "        for record in dataset:\n",
    "            groups = ds_split(idx, record[idx], dataset)\n",
    "            gini = gini_index(groups, c)\n",
    "            print('X%d < %.3f Gini=%.3f' % ((idx+1), record[idx], gini))\n",
    "            if gini < score:\n",
    "                b_index, b_value, b_score, b_groups = idx, record[idx], gini, groups\n",
    "    return {'index':index, 'value':value, 'groups':groups}"
   ]
  },
  {
   "cell_type": "code",
   "execution_count": null,
   "metadata": {},
   "outputs": [],
   "source": [
    "best_split(dataset)"
   ]
  },
  {
   "cell_type": "code",
   "execution_count": null,
   "metadata": {},
   "outputs": [],
   "source": []
  }
 ],
 "metadata": {
  "kernelspec": {
   "display_name": "Python 3",
   "language": "python",
   "name": "python3"
  },
  "language_info": {
   "codemirror_mode": {
    "name": "ipython",
    "version": 3
   },
   "file_extension": ".py",
   "mimetype": "text/x-python",
   "name": "python",
   "nbconvert_exporter": "python",
   "pygments_lexer": "ipython3",
   "version": "3.7.9"
  }
 },
 "nbformat": 4,
 "nbformat_minor": 4
}
