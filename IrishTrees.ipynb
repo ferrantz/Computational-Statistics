{
 "cells": [
  {
   "cell_type": "code",
   "execution_count": null,
   "metadata": {
    "id": "zAB-YfphfNHf"
   },
   "outputs": [],
   "source": [
    "# Split a dataset based on an attribute and an attribute value\n",
    "def test_split(index, value, dataset):\n",
    "\tleft, right = list(), list()\n",
    "\tfor row in dataset:\n",
    "\t\tif row[index] < value:\n",
    "\t\t\tleft.append(row)\n",
    "\t\telse:\n",
    "\t\t\tright.append(row)\n",
    "\treturn left, right\n",
    "\n",
    "# Calculate the Gini index for a split dataset\n",
    "def gini_index(groups, classes):\n",
    "\t# count all samples at split point\n",
    "    #n_instances=numero totale di unità statistiche (ottenuto sommando il numero di elementi\n",
    "    #di entrambi gli insiemi)\n",
    "\tn_instances = float(sum([len(group) for group in groups]))\n",
    "\t# sum weighted Gini index for each group\n",
    "\tgini = 0.0\n",
    "\tfor group in groups:\n",
    "        #size è il numero di unità statistiche nel gruppo che stiamo considerando\n",
    "\t\tsize = float(len(group))\n",
    "\t\t# avoid divide by zero\n",
    "\t\tif size == 0:\n",
    "\t\t\tcontinue\n",
    "\t\tscore = 0.0\n",
    "\t\t# score the group based on the score for each class\n",
    "\t\tfor class_val in classes:\n",
    "            #al variare delle possibili classificazioni (0,1), contiamo quanti elementi del gruppo\n",
    "            #(selezionato nel primo for) hanno quell'etichetta, e poi dividiamo per la cardinalità del gruppo\n",
    "\t\t\tp = [row[-1] for row in group].count(class_val) / size\n",
    "\t\t\tscore += p * p\n",
    "        #alla fine del for, score avrà la somma dei quadrati tra (numero di 0)/size e (numero di 1)/size\n",
    "\t\t# weight the group score by its relative size\n",
    "\t\tgini += (1.0 - score) * (size / n_instances)\n",
    "        #l'indice di gini finale è calcolato considerando entrambi gli insiemi di split\n",
    "\treturn gini\n",
    "\n",
    "# Select the best split point for a dataset\n",
    "def get_split(dataset):\n",
    "\tclass_values = list(set(row[-1] for row in dataset))\n",
    "\tb_score = 2\n",
    "\tfor index in range(len(dataset[0])-1):\n",
    "\t\tfor row in dataset:\n",
    "\t\t\tgroups = test_split(index, row[index], dataset)\n",
    "\t\t\tgini = gini_index(groups, class_values)\n",
    "\t\t\tif gini < b_score:\n",
    "\t\t\t\tb_index, b_value, b_score, b_groups = index, row[index], gini, groups\n",
    "\treturn {'index':b_index, 'value':b_value, 'groups':b_groups, 'gini':b_score}\n"
   ]
  },
  {
   "cell_type": "code",
   "execution_count": null,
   "metadata": {
    "id": "Nh4Q--z6vpM1"
   },
   "outputs": [],
   "source": [
    "class nodo:\n",
    "    def __init__(self, nome, variabile_split=None, valore_split=None, gini=None, is_terminal=False):\n",
    "        self.nome = nome\n",
    "        self.variabile_split = variabile_split\n",
    "        self.valore_split = valore_split\n",
    "        self.gini=gini\n",
    "        self.is_terminal=is_terminal\n",
    "    \n",
    "    def scheda_nodo(self):\n",
    "        print(\"Scheda Nodo\\n Numero:\", self.nome ,\"\\n Variabile_split:\", self.variabile_split ,\"\\n Valore:\", self.valore_split ,\"\\n Gini:\", self.gini ,\"\\n Is_terminal:\", self.is_terminal,\"\\n\")\n",
    "        return        \n",
    "\n",
    "#nodo_due = nodo(5,valore_split=5, is_terminal=True)\n",
    "#print(nodo_due.scheda_nodo())"
   ]
  },
  {
   "cell_type": "code",
   "execution_count": null,
   "metadata": {
    "id": "7BtsSEqXvjgA"
   },
   "outputs": [],
   "source": [
    "def ricorsive_tree(data, max_depth,name_node=1,tree_list=[]):\n",
    "    \n",
    "    #check for max depth\n",
    "    if max_depth==-1 and name_node!=1:\n",
    "        tree_list[-1].is_terminal=True\n",
    "        return tree_list\n",
    "    if max_depth==0 and name_node==1:\n",
    "        return tree_list\n",
    "    \n",
    "    \n",
    "    \n",
    "    split = get_split(data)\n",
    "    left, right = split['groups']\n",
    "    \n",
    "    #creamo il nodo\n",
    "    tree_list.append(nodo(name_node))\n",
    "    \n",
    "    # check for a no split because gini=0\n",
    "    if split['gini']==0:\n",
    "        tree_list[-1].is_terminal=True\n",
    "    \n",
    "    #aggiungiamo al nodo il criterio di split\n",
    "    tree_list[-1].variabile_split = split['index']\n",
    "    tree_list[-1].valore_split = split['value']\n",
    "    tree_list[-1].gini = split['gini']\n",
    "    \n",
    "    if not tree_list[-1].is_terminal:\n",
    "        #call the recursive tree, generating left and right branching\n",
    "        tree_list=ricorsive_tree(left, max_depth-1,name_node=2*name_node,tree_list=tree_list)\n",
    "        tree_list=ricorsive_tree(right, max_depth-1,name_node=2*name_node+1,tree_list=tree_list)\n",
    "    \n",
    "    return tree_list\n"
   ]
  },
  {
   "cell_type": "code",
   "execution_count": null,
   "metadata": {
    "id": "9p-eMiDxvTqY"
   },
   "outputs": [],
   "source": [
    "\n",
    "dataset = [[2.771244718,1.784783929,0],\n",
    "\t[1.728571309,1.169761413,0],\n",
    "\t[3.678319846,2.81281357,0],\n",
    "\t[3.961043357,2.61995032,0],\n",
    "\t[2.999208922,2.209014212,0],\n",
    "\t[7.497545867,3.162953546,1],\n",
    "\t[9.00220326,3.339047188,1],\n",
    "\t[7.444542326,0.476683375,1],\n",
    "\t[10.12493903,3.234550982,1],\n",
    "\t[6.642287351,3.319983761,1]]\n",
    "\n",
    "#call classification tree\n",
    "tree = ricorsive_tree(dataset, 1)\n",
    "#print_tree(tree)"
   ]
  },
  {
   "cell_type": "code",
   "execution_count": null,
   "metadata": {
    "id": "eVKMKrHRvVM8"
   },
   "outputs": [],
   "source": [
    "import numpy as np\n",
    "\n",
    "#predictors può essere una lista oppure un array di unità statistiche\n",
    "\n",
    "\n",
    "def processing_data(predictors,target):\n",
    "    assert len(predictors)==len(target)\n",
    "    lst=[]\n",
    "    for row in predictors:\n",
    "        new_row=np.append(row,target[len(lst)])\n",
    "        lst.append(new_row)\n",
    "    \n",
    "    return np.array(lst)\n"
   ]
  },
  {
   "cell_type": "code",
   "execution_count": null,
   "metadata": {
    "id": "RAeqbEmrvY-T"
   },
   "outputs": [],
   "source": [
    "from sklearn.datasets import load_iris\n",
    "\n",
    "dataset=load_iris()\n",
    "\n",
    "dati=processing_data(dataset.data,dataset.target)\n",
    "\n",
    "tree = ricorsive_tree(dati, 2)"
   ]
  },
  {
   "cell_type": "code",
   "execution_count": null,
   "metadata": {
    "colab": {
     "base_uri": "https://localhost:8080/"
    },
    "id": "0jfaEaHgvbtS",
    "outputId": "1ef1c55f-5e54-4446-8c19-b1c2bdebd28d"
   },
   "outputs": [
    {
     "name": "stdout",
     "output_type": "stream",
     "text": [
      "Numero totale di nodi: 5 \n",
      "\n",
      "Scheda Nodo\n",
      " Numero: 1 \n",
      " Variabile_split: 2 \n",
      " Valore: 3.0 \n",
      " Gini: 0.3333333333333333 \n",
      " Is_terminal: False \n",
      "\n",
      "Scheda Nodo\n",
      " Numero: 2 \n",
      " Variabile_split: 0 \n",
      " Valore: 5.1 \n",
      " Gini: 0.0 \n",
      " Is_terminal: True \n",
      "\n",
      "Scheda Nodo\n",
      " Numero: 3 \n",
      " Variabile_split: 3 \n",
      " Valore: 1.8 \n",
      " Gini: 0.11030595813204513 \n",
      " Is_terminal: False \n",
      "\n",
      "Scheda Nodo\n",
      " Numero: 6 \n",
      " Variabile_split: 2 \n",
      " Valore: 5.0 \n",
      " Gini: 0.0856481481481482 \n",
      " Is_terminal: True \n",
      "\n",
      "Scheda Nodo\n",
      " Numero: 7 \n",
      " Variabile_split: 2 \n",
      " Valore: 4.9 \n",
      " Gini: 0.02898550724637681 \n",
      " Is_terminal: True \n",
      "\n"
     ]
    }
   ],
   "source": [
    "print(\"Numero totale di nodi:\",len(tree),\"\\n\")\n",
    "\n",
    "for i in range(len(tree)):\n",
    "    tree[i].scheda_nodo()"
   ]
  }
 ],
 "metadata": {
  "colab": {
   "collapsed_sections": [],
   "name": "IrishTrees.ipynb",
   "provenance": []
  },
  "kernelspec": {
   "display_name": "Python 3",
   "language": "python",
   "name": "python3"
  },
  "language_info": {
   "codemirror_mode": {
    "name": "ipython",
    "version": 3
   },
   "file_extension": ".py",
   "mimetype": "text/x-python",
   "name": "python",
   "nbconvert_exporter": "python",
   "pygments_lexer": "ipython3",
   "version": "3.7.9"
  }
 },
 "nbformat": 4,
 "nbformat_minor": 1
}
