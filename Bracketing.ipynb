{
 "cells": [
  {
   "cell_type": "code",
   "execution_count": 1,
   "metadata": {},
   "outputs": [
    {
     "name": "stdout",
     "output_type": "stream",
     "text": [
      "passo:  2 \n",
      "x2: 0.2618033988749895 \n",
      "f2: 1.6078656702886776\n",
      "passo:  3 \n",
      "x2: 0.423606797749979 \n",
      "f2: 1.488805225995813\n",
      "passo:  4 \n",
      "x2: 0.6854101966249686 \n",
      "f2: 1.477554129372693\n",
      "passo:  5 \n",
      "x2: 1.1090169943749477 \n",
      "f2: 1.8896848511450837\n"
     ]
    }
   ],
   "source": [
    "import math\n",
    "import numpy as np\n",
    "\n",
    "def fx(x):\n",
    "    f= x**2 + 2*math.exp(-x)\n",
    "    return f\n",
    "\n",
    "x = 0\n",
    "delta=0.1\n",
    "p=1\n",
    "r=((5**(1/2))+1)/2\n",
    "x1=x+delta*p\n",
    "f1 = fx(x1)\n",
    "x2=x+delta*r*p\n",
    "f2 = fx(x2)\n",
    "j=1\n",
    "\n",
    "while (f1>f2):\n",
    "    j+=1\n",
    "    if delta > 20:\n",
    "        print(\"start with a smaller value of delta\")\n",
    "        break\n",
    "    x1=x2\n",
    "    f1=f2\n",
    "    x2=x+delta*(r**j)*p\n",
    "    f2=fx(x2)\n",
    "    \n",
    "    print('passo: ', j, '\\nx2:', x2,'\\nf2:',f2)\n",
    "    \n",
    "alpha=np.array([x,x2]) #intervallo di valori (min - max)\n",
    "alpha_2=delta*r**j #ampiezza dell'intervallo\n",
    "\n"
   ]
  },
  {
   "cell_type": "code",
   "execution_count": null,
   "metadata": {},
   "outputs": [],
   "source": []
  }
 ],
 "metadata": {
  "kernelspec": {
   "display_name": "Python 3",
   "language": "python",
   "name": "python3"
  },
  "language_info": {
   "codemirror_mode": {
    "name": "ipython",
    "version": 3
   },
   "file_extension": ".py",
   "mimetype": "text/x-python",
   "name": "python",
   "nbconvert_exporter": "python",
   "pygments_lexer": "ipython3",
   "version": "3.7.9"
  }
 },
 "nbformat": 4,
 "nbformat_minor": 4
}
