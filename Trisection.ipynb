{
 "cells": [
  {
   "cell_type": "code",
   "execution_count": 1,
   "metadata": {},
   "outputs": [
    {
     "name": "stdout",
     "output_type": "stream",
     "text": [
      "f_min:  1.456007060788628 x_min: 0.5662028437789018 num_iter: 39\n"
     ]
    }
   ],
   "source": [
    "import math\n",
    "\n",
    "def function(x):\n",
    "    return math.pow(x, 2) + 2*math.exp(-x)\n",
    "\n",
    "max_istances = 200\n",
    "\n",
    "x1 = 0\n",
    "x2 = 2\n",
    "f1 = function(x1)\n",
    "f2 = function(x2)\n",
    "delta = (x2 - x1)\n",
    "eps=10**(-6)\n",
    "niter=0\n",
    "\n",
    "while (abs(f2-f1)>eps):\n",
    "    niter+=1\n",
    "    x3=x1+(delta)/3\n",
    "    x4=x2-(delta)/3\n",
    "    f1 = function(x3)\n",
    "    f2 = function(x4)\n",
    "    if f2-f1 > 0:\n",
    "        x2 = x4\n",
    "    else:\n",
    "        x1 = x3\n",
    "    delta = (x2 - x1)/3\n",
    "\n",
    "x_min = (x2+x1)/2\n",
    "\n",
    "print('f_min: ', f1, 'x_min:', x_min,'num_iter:',niter)"
   ]
  },
  {
   "cell_type": "code",
   "execution_count": null,
   "metadata": {},
   "outputs": [],
   "source": []
  }
 ],
 "metadata": {
  "kernelspec": {
   "display_name": "Python 3",
   "language": "python",
   "name": "python3"
  },
  "language_info": {
   "codemirror_mode": {
    "name": "ipython",
    "version": 3
   },
   "file_extension": ".py",
   "mimetype": "text/x-python",
   "name": "python",
   "nbconvert_exporter": "python",
   "pygments_lexer": "ipython3",
   "version": "3.7.9"
  }
 },
 "nbformat": 4,
 "nbformat_minor": 4
}
