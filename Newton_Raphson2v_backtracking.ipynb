{
 "cells": [
  {
   "cell_type": "code",
   "execution_count": 1,
   "metadata": {},
   "outputs": [
    {
     "name": "stdout",
     "output_type": "stream",
     "text": [
      "num_iter:  1 \n",
      "x : [0. 0.] \n",
      "f : 0.0\n"
     ]
    }
   ],
   "source": [
    "import numpy as np\n",
    "\n",
    "def fx(x):\n",
    "    f=x[0]**2 - x[0]*x[1] + 3*x[1]**2\n",
    "    g=np.array([2*x[0]-x[1],-x[0]+6*x[1]])\n",
    "    H=np.array([[2,-1],[-1,6]],dtype=float)\n",
    "    return f, g, H\n",
    "\n",
    "def backtracking(x0, f):\n",
    "    alpha=1\n",
    "    beta=0.5\n",
    "    fk=f[0]\n",
    "    p=-np.dot(np.linalg.inv(f[2]),f[1])\n",
    "    while True:\n",
    "        fk2=fx(x0+alpha*p)[0]\n",
    "        if fk2<fk:\n",
    "            break\n",
    "        else:\n",
    "            alpha=beta*alpha\n",
    "    #print(\"alpha=\",alpha)\n",
    "    return alpha\n",
    "\n",
    "\n",
    "maxiter=1000 #set maximum iterations number\n",
    "tol=10**(-6) #tolerance value\n",
    "it=0 #set counter\n",
    "x=np.array([1,2]) #set initial point\n",
    "alfa=0.1 #set constant step length\n",
    "fo=fx(x)\n",
    "while it<=maxiter and max(abs(fo[1]))>tol:\n",
    "    p=-np.dot(np.linalg.inv(fo[2]),fo[1]) #set direction\n",
    "    alfa=backtracking(x,fo)\n",
    "    x=x+alfa*p #update x\n",
    "    fo=fx(x) #evaluate f\n",
    "    it=it+1\n",
    "\n",
    "\n",
    "print('num_iter: ',it,'\\nx :',x,'\\nf :',fx(x)[0])\n",
    "\n"
   ]
  },
  {
   "cell_type": "code",
   "execution_count": null,
   "metadata": {},
   "outputs": [],
   "source": []
  }
 ],
 "metadata": {
  "kernelspec": {
   "display_name": "Python 3",
   "language": "python",
   "name": "python3"
  },
  "language_info": {
   "codemirror_mode": {
    "name": "ipython",
    "version": 3
   },
   "file_extension": ".py",
   "mimetype": "text/x-python",
   "name": "python",
   "nbconvert_exporter": "python",
   "pygments_lexer": "ipython3",
   "version": "3.7.9"
  }
 },
 "nbformat": 4,
 "nbformat_minor": 4
}
