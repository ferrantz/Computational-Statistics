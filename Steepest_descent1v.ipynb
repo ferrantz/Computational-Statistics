{
 "cells": [
  {
   "cell_type": "code",
   "execution_count": 1,
   "metadata": {},
   "outputs": [
    {
     "name": "stdout",
     "output_type": "stream",
     "text": [
      "num_iter:  36 \n",
      "x : 0.5282516730202684 \n",
      "f : 0.6675037513808197\n"
     ]
    }
   ],
   "source": [
    "import math\n",
    "\n",
    "def fx(x):\n",
    "    f=math.exp(-x)+x**4\n",
    "    g=4*x**3-math.exp(-x)\n",
    "    return f, g\n",
    "\n",
    "\n",
    "maxiter=1000 #set maximum iterations number\n",
    "tol=10**(-6) #tolerance value\n",
    "it=0 #set counter\n",
    "x=-1 #set initial point\n",
    "alfa=0.1 #set constant step length\n",
    "fo=fx(x)\n",
    "while it<=maxiter and abs(fo[1])>tol:\n",
    "    p=-fo[1] #set direction\n",
    "    x=x+alfa*p #update x\n",
    "    fo=fx(x) #evaluate f\n",
    "    it=it+1\n",
    "    \n",
    "print('num_iter: ',it,'\\nx :',x,'\\nf :',fx(x)[0])"
   ]
  },
  {
   "cell_type": "code",
   "execution_count": null,
   "metadata": {},
   "outputs": [],
   "source": []
  }
 ],
 "metadata": {
  "kernelspec": {
   "display_name": "Python 3",
   "language": "python",
   "name": "python3"
  },
  "language_info": {
   "codemirror_mode": {
    "name": "ipython",
    "version": 3
   },
   "file_extension": ".py",
   "mimetype": "text/x-python",
   "name": "python",
   "nbconvert_exporter": "python",
   "pygments_lexer": "ipython3",
   "version": "3.7.9"
  }
 },
 "nbformat": 4,
 "nbformat_minor": 4
}
